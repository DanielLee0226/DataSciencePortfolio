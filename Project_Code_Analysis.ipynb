{
  "nbformat": 4,
  "nbformat_minor": 0,
  "metadata": {
    "colab": {
      "provenance": [],
      "include_colab_link": true
    },
    "kernelspec": {
      "name": "python3",
      "display_name": "Python 3"
    },
    "language_info": {
      "name": "python"
    }
  },
  "cells": [
    {
      "cell_type": "markdown",
      "metadata": {
        "id": "view-in-github",
        "colab_type": "text"
      },
      "source": [
        "<a href=\"https://colab.research.google.com/github/DanielLee0226/DataSciencePortfolio/blob/main/Project_Code_Analysis.ipynb\" target=\"_parent\"><img src=\"https://colab.research.google.com/assets/colab-badge.svg\" alt=\"Open In Colab\"/></a>"
      ]
    },
    {
      "cell_type": "code",
      "execution_count": null,
      "metadata": {
        "id": "L0q9IUE9hz3g"
      },
      "outputs": [],
      "source": [
        "import pandas as pd\n",
        "import numpy as np\n",
        "import h2o\n",
        "from sklearn.model_selection import train_test_split\n",
        "from sklearn.preprocessing import StandardScaler\n",
        "from sklearn.ensemble import RandomForestClassifier\n",
        "from sklearn.linear_model import LogisticRegression\n",
        "from sklearn.svm import SVC\n",
        "from sklearn.neighbors import KNeighborsClassifier\n",
        "from sklearn.metrics import accuracy_score\n",
        "from sklearn.ensemble import VotingClassifier\n",
        "from h2o.automl import H2OAutoML\n",
        "from sklearn.metrics import mean_squared_error\n",
        "from sklearn.feature_selection import RFE\n",
        "from sklearn.linear_model import LinearRegression"
      ]
    },
    {
      "cell_type": "code",
      "source": [
        "data = pd.read_csv(\"AMZN.csv\")\n",
        "data.dropna()\n",
        "data.isna().sum()\n",
        "len(data)"
      ],
      "metadata": {
        "colab": {
          "base_uri": "https://localhost:8080/"
        },
        "id": "y62CksLNlNMh",
        "outputId": "be48fec5-ea44-4bda-d8c6-afab44a32b4e"
      },
      "execution_count": null,
      "outputs": [
        {
          "output_type": "execute_result",
          "data": {
            "text/plain": [
              "6438"
            ]
          },
          "metadata": {},
          "execution_count": 8
        }
      ]
    },
    {
      "cell_type": "code",
      "source": [
        "pip install h2o"
      ],
      "metadata": {
        "colab": {
          "base_uri": "https://localhost:8080/"
        },
        "id": "qg0NTK3ECsrX",
        "outputId": "d8476d94-d212-4df4-daed-d808391f7b8e"
      },
      "execution_count": null,
      "outputs": [
        {
          "output_type": "stream",
          "name": "stdout",
          "text": [
            "Looking in indexes: https://pypi.org/simple, https://us-python.pkg.dev/colab-wheels/public/simple/\n",
            "Collecting h2o\n",
            "  Downloading h2o-3.40.0.2.tar.gz (177.6 MB)\n",
            "\u001b[2K     \u001b[90m━━━━━━━━━━━━━━━━━━━━━━━━━━━━━━━━━━━━━━━\u001b[0m \u001b[32m177.6/177.6 MB\u001b[0m \u001b[31m8.0 MB/s\u001b[0m eta \u001b[36m0:00:00\u001b[0m\n",
            "\u001b[?25h  Preparing metadata (setup.py) ... \u001b[?25l\u001b[?25hdone\n",
            "Requirement already satisfied: requests in /usr/local/lib/python3.9/dist-packages (from h2o) (2.27.1)\n",
            "Requirement already satisfied: tabulate in /usr/local/lib/python3.9/dist-packages (from h2o) (0.8.10)\n",
            "Requirement already satisfied: future in /usr/local/lib/python3.9/dist-packages (from h2o) (0.18.3)\n",
            "Requirement already satisfied: urllib3<1.27,>=1.21.1 in /usr/local/lib/python3.9/dist-packages (from requests->h2o) (1.26.15)\n",
            "Requirement already satisfied: certifi>=2017.4.17 in /usr/local/lib/python3.9/dist-packages (from requests->h2o) (2022.12.7)\n",
            "Requirement already satisfied: charset-normalizer~=2.0.0 in /usr/local/lib/python3.9/dist-packages (from requests->h2o) (2.0.12)\n",
            "Requirement already satisfied: idna<4,>=2.5 in /usr/local/lib/python3.9/dist-packages (from requests->h2o) (3.4)\n",
            "Building wheels for collected packages: h2o\n",
            "  Building wheel for h2o (setup.py) ... \u001b[?25l\u001b[?25hdone\n",
            "  Created wheel for h2o: filename=h2o-3.40.0.2-py2.py3-none-any.whl size=177693439 sha256=93d71873cd198081c09fee5c2cc80c407b71f50e51a290b25df62d6edc8ed30d\n",
            "  Stored in directory: /root/.cache/pip/wheels/b2/79/e3/842b81607eb31946ee24898cc9961b101e6486f988a5103967\n",
            "Successfully built h2o\n",
            "Installing collected packages: h2o\n",
            "Successfully installed h2o-3.40.0.2\n"
          ]
        }
      ]
    },
    {
      "cell_type": "code",
      "source": [
        "# Initialize H2O\n",
        "h2o.init()"
      ],
      "metadata": {
        "colab": {
          "base_uri": "https://localhost:8080/",
          "height": 385
        },
        "id": "Q9_HXI3HCM3Q",
        "outputId": "fe5d281c-e406-4cd3-95de-8a3f55b37506"
      },
      "execution_count": 38,
      "outputs": [
        {
          "output_type": "stream",
          "name": "stdout",
          "text": [
            "Checking whether there is an H2O instance running at http://localhost:54321. connected.\n"
          ]
        },
        {
          "output_type": "display_data",
          "data": {
            "text/plain": [
              "--------------------------  ----------------------------------\n",
              "H2O_cluster_uptime:         46 mins 35 secs\n",
              "H2O_cluster_timezone:       Etc/UTC\n",
              "H2O_data_parsing_timezone:  UTC\n",
              "H2O_cluster_version:        3.40.0.2\n",
              "H2O_cluster_version_age:    21 days, 4 hours and 48 minutes\n",
              "H2O_cluster_name:           H2O_from_python_unknownUser_40thm7\n",
              "H2O_cluster_total_nodes:    1\n",
              "H2O_cluster_free_memory:    3.146 Gb\n",
              "H2O_cluster_total_cores:    2\n",
              "H2O_cluster_allowed_cores:  2\n",
              "H2O_cluster_status:         locked, healthy\n",
              "H2O_connection_url:         http://localhost:54321\n",
              "H2O_connection_proxy:       {\"http\": null, \"https\": null}\n",
              "H2O_internal_security:      False\n",
              "Python_version:             3.9.16 final\n",
              "--------------------------  ----------------------------------"
            ],
            "text/html": [
              "\n",
              "<style>\n",
              "\n",
              "#h2o-table-6.h2o-container {\n",
              "  overflow-x: auto;\n",
              "}\n",
              "#h2o-table-6 .h2o-table {\n",
              "  /* width: 100%; */\n",
              "  margin-top: 1em;\n",
              "  margin-bottom: 1em;\n",
              "}\n",
              "#h2o-table-6 .h2o-table caption {\n",
              "  white-space: nowrap;\n",
              "  caption-side: top;\n",
              "  text-align: left;\n",
              "  /* margin-left: 1em; */\n",
              "  margin: 0;\n",
              "  font-size: larger;\n",
              "}\n",
              "#h2o-table-6 .h2o-table thead {\n",
              "  white-space: nowrap; \n",
              "  position: sticky;\n",
              "  top: 0;\n",
              "  box-shadow: 0 -1px inset;\n",
              "}\n",
              "#h2o-table-6 .h2o-table tbody {\n",
              "  overflow: auto;\n",
              "}\n",
              "#h2o-table-6 .h2o-table th,\n",
              "#h2o-table-6 .h2o-table td {\n",
              "  text-align: right;\n",
              "  /* border: 1px solid; */\n",
              "}\n",
              "#h2o-table-6 .h2o-table tr:nth-child(even) {\n",
              "  /* background: #F5F5F5 */\n",
              "}\n",
              "\n",
              "</style>      \n",
              "<div id=\"h2o-table-6\" class=\"h2o-container\">\n",
              "  <table class=\"h2o-table\">\n",
              "    <caption></caption>\n",
              "    <thead></thead>\n",
              "    <tbody><tr><td>H2O_cluster_uptime:</td>\n",
              "<td>46 mins 35 secs</td></tr>\n",
              "<tr><td>H2O_cluster_timezone:</td>\n",
              "<td>Etc/UTC</td></tr>\n",
              "<tr><td>H2O_data_parsing_timezone:</td>\n",
              "<td>UTC</td></tr>\n",
              "<tr><td>H2O_cluster_version:</td>\n",
              "<td>3.40.0.2</td></tr>\n",
              "<tr><td>H2O_cluster_version_age:</td>\n",
              "<td>21 days, 4 hours and 48 minutes</td></tr>\n",
              "<tr><td>H2O_cluster_name:</td>\n",
              "<td>H2O_from_python_unknownUser_40thm7</td></tr>\n",
              "<tr><td>H2O_cluster_total_nodes:</td>\n",
              "<td>1</td></tr>\n",
              "<tr><td>H2O_cluster_free_memory:</td>\n",
              "<td>3.146 Gb</td></tr>\n",
              "<tr><td>H2O_cluster_total_cores:</td>\n",
              "<td>2</td></tr>\n",
              "<tr><td>H2O_cluster_allowed_cores:</td>\n",
              "<td>2</td></tr>\n",
              "<tr><td>H2O_cluster_status:</td>\n",
              "<td>locked, healthy</td></tr>\n",
              "<tr><td>H2O_connection_url:</td>\n",
              "<td>http://localhost:54321</td></tr>\n",
              "<tr><td>H2O_connection_proxy:</td>\n",
              "<td>{\"http\": null, \"https\": null}</td></tr>\n",
              "<tr><td>H2O_internal_security:</td>\n",
              "<td>False</td></tr>\n",
              "<tr><td>Python_version:</td>\n",
              "<td>3.9.16 final</td></tr></tbody>\n",
              "  </table>\n",
              "</div>\n"
            ]
          },
          "metadata": {}
        }
      ]
    },
    {
      "cell_type": "code",
      "source": [
        "#data = pd.read_csv(\"Finaldata.csv\")\n",
        "data.head()\n",
        "data = data.drop(columns = [\"Date\"])\n",
        "#data = data.dropna()\n",
        "#print(data.dtypes)"
      ],
      "metadata": {
        "id": "1V7NmeFhCQux",
        "colab": {
          "base_uri": "https://localhost:8080/",
          "height": 389
        },
        "outputId": "51a292c6-dcac-4e53-8abd-78a6cbdcd0bc"
      },
      "execution_count": 39,
      "outputs": [
        {
          "output_type": "error",
          "ename": "KeyError",
          "evalue": "ignored",
          "traceback": [
            "\u001b[0;31m---------------------------------------------------------------------------\u001b[0m",
            "\u001b[0;31mKeyError\u001b[0m                                  Traceback (most recent call last)",
            "\u001b[0;32m<ipython-input-39-d1780c699aeb>\u001b[0m in \u001b[0;36m<cell line: 3>\u001b[0;34m()\u001b[0m\n\u001b[1;32m      1\u001b[0m \u001b[0;31m#data = pd.read_csv(\"Finaldata.csv\")\u001b[0m\u001b[0;34m\u001b[0m\u001b[0;34m\u001b[0m\u001b[0m\n\u001b[1;32m      2\u001b[0m \u001b[0mdata\u001b[0m\u001b[0;34m.\u001b[0m\u001b[0mhead\u001b[0m\u001b[0;34m(\u001b[0m\u001b[0;34m)\u001b[0m\u001b[0;34m\u001b[0m\u001b[0;34m\u001b[0m\u001b[0m\n\u001b[0;32m----> 3\u001b[0;31m \u001b[0mdata\u001b[0m \u001b[0;34m=\u001b[0m \u001b[0mdata\u001b[0m\u001b[0;34m.\u001b[0m\u001b[0mdrop\u001b[0m\u001b[0;34m(\u001b[0m\u001b[0mcolumns\u001b[0m \u001b[0;34m=\u001b[0m \u001b[0;34m[\u001b[0m\u001b[0;34m\"Date\"\u001b[0m\u001b[0;34m]\u001b[0m\u001b[0;34m)\u001b[0m\u001b[0;34m\u001b[0m\u001b[0;34m\u001b[0m\u001b[0m\n\u001b[0m\u001b[1;32m      4\u001b[0m \u001b[0;31m#data = data.dropna()\u001b[0m\u001b[0;34m\u001b[0m\u001b[0;34m\u001b[0m\u001b[0m\n\u001b[1;32m      5\u001b[0m \u001b[0;31m#print(data.dtypes)\u001b[0m\u001b[0;34m\u001b[0m\u001b[0;34m\u001b[0m\u001b[0m\n",
            "\u001b[0;32m/usr/local/lib/python3.9/dist-packages/pandas/util/_decorators.py\u001b[0m in \u001b[0;36mwrapper\u001b[0;34m(*args, **kwargs)\u001b[0m\n\u001b[1;32m    309\u001b[0m                     \u001b[0mstacklevel\u001b[0m\u001b[0;34m=\u001b[0m\u001b[0mstacklevel\u001b[0m\u001b[0;34m,\u001b[0m\u001b[0;34m\u001b[0m\u001b[0;34m\u001b[0m\u001b[0m\n\u001b[1;32m    310\u001b[0m                 )\n\u001b[0;32m--> 311\u001b[0;31m             \u001b[0;32mreturn\u001b[0m \u001b[0mfunc\u001b[0m\u001b[0;34m(\u001b[0m\u001b[0;34m*\u001b[0m\u001b[0margs\u001b[0m\u001b[0;34m,\u001b[0m \u001b[0;34m**\u001b[0m\u001b[0mkwargs\u001b[0m\u001b[0;34m)\u001b[0m\u001b[0;34m\u001b[0m\u001b[0;34m\u001b[0m\u001b[0m\n\u001b[0m\u001b[1;32m    312\u001b[0m \u001b[0;34m\u001b[0m\u001b[0m\n\u001b[1;32m    313\u001b[0m         \u001b[0;32mreturn\u001b[0m \u001b[0mwrapper\u001b[0m\u001b[0;34m\u001b[0m\u001b[0;34m\u001b[0m\u001b[0m\n",
            "\u001b[0;32m/usr/local/lib/python3.9/dist-packages/pandas/core/frame.py\u001b[0m in \u001b[0;36mdrop\u001b[0;34m(self, labels, axis, index, columns, level, inplace, errors)\u001b[0m\n\u001b[1;32m   4955\u001b[0m                 \u001b[0mweight\u001b[0m  \u001b[0;36m1.0\u001b[0m     \u001b[0;36m0.8\u001b[0m\u001b[0;34m\u001b[0m\u001b[0;34m\u001b[0m\u001b[0m\n\u001b[1;32m   4956\u001b[0m         \"\"\"\n\u001b[0;32m-> 4957\u001b[0;31m         return super().drop(\n\u001b[0m\u001b[1;32m   4958\u001b[0m             \u001b[0mlabels\u001b[0m\u001b[0;34m=\u001b[0m\u001b[0mlabels\u001b[0m\u001b[0;34m,\u001b[0m\u001b[0;34m\u001b[0m\u001b[0;34m\u001b[0m\u001b[0m\n\u001b[1;32m   4959\u001b[0m             \u001b[0maxis\u001b[0m\u001b[0;34m=\u001b[0m\u001b[0maxis\u001b[0m\u001b[0;34m,\u001b[0m\u001b[0;34m\u001b[0m\u001b[0;34m\u001b[0m\u001b[0m\n",
            "\u001b[0;32m/usr/local/lib/python3.9/dist-packages/pandas/core/generic.py\u001b[0m in \u001b[0;36mdrop\u001b[0;34m(self, labels, axis, index, columns, level, inplace, errors)\u001b[0m\n\u001b[1;32m   4265\u001b[0m         \u001b[0;32mfor\u001b[0m \u001b[0maxis\u001b[0m\u001b[0;34m,\u001b[0m \u001b[0mlabels\u001b[0m \u001b[0;32min\u001b[0m \u001b[0maxes\u001b[0m\u001b[0;34m.\u001b[0m\u001b[0mitems\u001b[0m\u001b[0;34m(\u001b[0m\u001b[0;34m)\u001b[0m\u001b[0;34m:\u001b[0m\u001b[0;34m\u001b[0m\u001b[0;34m\u001b[0m\u001b[0m\n\u001b[1;32m   4266\u001b[0m             \u001b[0;32mif\u001b[0m \u001b[0mlabels\u001b[0m \u001b[0;32mis\u001b[0m \u001b[0;32mnot\u001b[0m \u001b[0;32mNone\u001b[0m\u001b[0;34m:\u001b[0m\u001b[0;34m\u001b[0m\u001b[0;34m\u001b[0m\u001b[0m\n\u001b[0;32m-> 4267\u001b[0;31m                 \u001b[0mobj\u001b[0m \u001b[0;34m=\u001b[0m \u001b[0mobj\u001b[0m\u001b[0;34m.\u001b[0m\u001b[0m_drop_axis\u001b[0m\u001b[0;34m(\u001b[0m\u001b[0mlabels\u001b[0m\u001b[0;34m,\u001b[0m \u001b[0maxis\u001b[0m\u001b[0;34m,\u001b[0m \u001b[0mlevel\u001b[0m\u001b[0;34m=\u001b[0m\u001b[0mlevel\u001b[0m\u001b[0;34m,\u001b[0m \u001b[0merrors\u001b[0m\u001b[0;34m=\u001b[0m\u001b[0merrors\u001b[0m\u001b[0;34m)\u001b[0m\u001b[0;34m\u001b[0m\u001b[0;34m\u001b[0m\u001b[0m\n\u001b[0m\u001b[1;32m   4268\u001b[0m \u001b[0;34m\u001b[0m\u001b[0m\n\u001b[1;32m   4269\u001b[0m         \u001b[0;32mif\u001b[0m \u001b[0minplace\u001b[0m\u001b[0;34m:\u001b[0m\u001b[0;34m\u001b[0m\u001b[0;34m\u001b[0m\u001b[0m\n",
            "\u001b[0;32m/usr/local/lib/python3.9/dist-packages/pandas/core/generic.py\u001b[0m in \u001b[0;36m_drop_axis\u001b[0;34m(self, labels, axis, level, errors, consolidate, only_slice)\u001b[0m\n\u001b[1;32m   4309\u001b[0m                 \u001b[0mnew_axis\u001b[0m \u001b[0;34m=\u001b[0m \u001b[0maxis\u001b[0m\u001b[0;34m.\u001b[0m\u001b[0mdrop\u001b[0m\u001b[0;34m(\u001b[0m\u001b[0mlabels\u001b[0m\u001b[0;34m,\u001b[0m \u001b[0mlevel\u001b[0m\u001b[0;34m=\u001b[0m\u001b[0mlevel\u001b[0m\u001b[0;34m,\u001b[0m \u001b[0merrors\u001b[0m\u001b[0;34m=\u001b[0m\u001b[0merrors\u001b[0m\u001b[0;34m)\u001b[0m\u001b[0;34m\u001b[0m\u001b[0;34m\u001b[0m\u001b[0m\n\u001b[1;32m   4310\u001b[0m             \u001b[0;32melse\u001b[0m\u001b[0;34m:\u001b[0m\u001b[0;34m\u001b[0m\u001b[0;34m\u001b[0m\u001b[0m\n\u001b[0;32m-> 4311\u001b[0;31m                 \u001b[0mnew_axis\u001b[0m \u001b[0;34m=\u001b[0m \u001b[0maxis\u001b[0m\u001b[0;34m.\u001b[0m\u001b[0mdrop\u001b[0m\u001b[0;34m(\u001b[0m\u001b[0mlabels\u001b[0m\u001b[0;34m,\u001b[0m \u001b[0merrors\u001b[0m\u001b[0;34m=\u001b[0m\u001b[0merrors\u001b[0m\u001b[0;34m)\u001b[0m\u001b[0;34m\u001b[0m\u001b[0;34m\u001b[0m\u001b[0m\n\u001b[0m\u001b[1;32m   4312\u001b[0m             \u001b[0mindexer\u001b[0m \u001b[0;34m=\u001b[0m \u001b[0maxis\u001b[0m\u001b[0;34m.\u001b[0m\u001b[0mget_indexer\u001b[0m\u001b[0;34m(\u001b[0m\u001b[0mnew_axis\u001b[0m\u001b[0;34m)\u001b[0m\u001b[0;34m\u001b[0m\u001b[0;34m\u001b[0m\u001b[0m\n\u001b[1;32m   4313\u001b[0m \u001b[0;34m\u001b[0m\u001b[0m\n",
            "\u001b[0;32m/usr/local/lib/python3.9/dist-packages/pandas/core/indexes/base.py\u001b[0m in \u001b[0;36mdrop\u001b[0;34m(self, labels, errors)\u001b[0m\n\u001b[1;32m   6659\u001b[0m         \u001b[0;32mif\u001b[0m \u001b[0mmask\u001b[0m\u001b[0;34m.\u001b[0m\u001b[0many\u001b[0m\u001b[0;34m(\u001b[0m\u001b[0;34m)\u001b[0m\u001b[0;34m:\u001b[0m\u001b[0;34m\u001b[0m\u001b[0;34m\u001b[0m\u001b[0m\n\u001b[1;32m   6660\u001b[0m             \u001b[0;32mif\u001b[0m \u001b[0merrors\u001b[0m \u001b[0;34m!=\u001b[0m \u001b[0;34m\"ignore\"\u001b[0m\u001b[0;34m:\u001b[0m\u001b[0;34m\u001b[0m\u001b[0;34m\u001b[0m\u001b[0m\n\u001b[0;32m-> 6661\u001b[0;31m                 \u001b[0;32mraise\u001b[0m \u001b[0mKeyError\u001b[0m\u001b[0;34m(\u001b[0m\u001b[0;34mf\"{list(labels[mask])} not found in axis\"\u001b[0m\u001b[0;34m)\u001b[0m\u001b[0;34m\u001b[0m\u001b[0;34m\u001b[0m\u001b[0m\n\u001b[0m\u001b[1;32m   6662\u001b[0m             \u001b[0mindexer\u001b[0m \u001b[0;34m=\u001b[0m \u001b[0mindexer\u001b[0m\u001b[0;34m[\u001b[0m\u001b[0;34m~\u001b[0m\u001b[0mmask\u001b[0m\u001b[0;34m]\u001b[0m\u001b[0;34m\u001b[0m\u001b[0;34m\u001b[0m\u001b[0m\n\u001b[1;32m   6663\u001b[0m         \u001b[0;32mreturn\u001b[0m \u001b[0mself\u001b[0m\u001b[0;34m.\u001b[0m\u001b[0mdelete\u001b[0m\u001b[0;34m(\u001b[0m\u001b[0mindexer\u001b[0m\u001b[0;34m)\u001b[0m\u001b[0;34m\u001b[0m\u001b[0;34m\u001b[0m\u001b[0m\n",
            "\u001b[0;31mKeyError\u001b[0m: \"['Date'] not found in axis\""
          ]
        }
      ]
    },
    {
      "cell_type": "code",
      "source": [
        "# Remove spaces from column names\n",
        "data.columns = [col.replace(\" \", \"\") for col in data.columns]\n",
        "\n",
        "\n",
        "# Display the updated column names\n",
        "print(data.columns)"
      ],
      "metadata": {
        "colab": {
          "base_uri": "https://localhost:8080/"
        },
        "id": "o4CUMD-qCTFj",
        "outputId": "aff03f51-83df-4183-ff2d-6d66484ca6cb"
      },
      "execution_count": 40,
      "outputs": [
        {
          "output_type": "stream",
          "name": "stdout",
          "text": [
            "Index(['Low', 'Open', 'Volume', 'High', 'Close', 'AdjustedClose'], dtype='object')\n"
          ]
        }
      ]
    },
    {
      "cell_type": "code",
      "source": [
        "# Split dataset into training and testing sets\n",
        "train_data, test_data = train_test_split(data, test_size=0.2, random_state=42)"
      ],
      "metadata": {
        "id": "QJEugwgpCUzO"
      },
      "execution_count": 41,
      "outputs": []
    },
    {
      "cell_type": "code",
      "source": [
        "# Convert pandas dataframes to H2O dataframes\n",
        "h2o_train_data = h2o.H2OFrame(train_data)\n",
        "h2o_test_data = h2o.H2OFrame(test_data)"
      ],
      "metadata": {
        "colab": {
          "base_uri": "https://localhost:8080/"
        },
        "id": "2Lth5yM4CWeu",
        "outputId": "f9f5db72-f614-4673-9bcb-1ea1e117b99a"
      },
      "execution_count": 42,
      "outputs": [
        {
          "output_type": "stream",
          "name": "stdout",
          "text": [
            "Parse progress: |████████████████████████████████████████████████████████████████| (done) 100%\n",
            "Parse progress: |████████████████████████████████████████████████████████████████| (done) 100%\n"
          ]
        }
      ]
    },
    {
      "cell_type": "code",
      "source": [
        "y = \"AdjustedClose\"\n",
        "x = train_data.drop(columns=[y]).columns"
      ],
      "metadata": {
        "id": "GQX1ZqIiCX2Q"
      },
      "execution_count": 43,
      "outputs": []
    },
    {
      "cell_type": "code",
      "source": [
        "# Perform feature selection using RFE\n",
        "rfe_selector = RFE(estimator=LinearRegression(), n_features_to_select=5, step=1)\n",
        "rfe_selector.fit(train_data[x], train_data[y])\n",
        "selected_features = x[rfe_selector.support_]"
      ],
      "metadata": {
        "id": "q38A1EEdCZHN"
      },
      "execution_count": 44,
      "outputs": []
    },
    {
      "cell_type": "code",
      "source": [
        "# Update the feature list for H2O\n",
        "x = selected_features.tolist()"
      ],
      "metadata": {
        "id": "-2oPldiMCahi"
      },
      "execution_count": 45,
      "outputs": []
    },
    {
      "cell_type": "code",
      "source": [
        "# Run H2O AutoML\n",
        "aml = H2OAutoML(max_models=20, seed=1)\n",
        "aml.train(x=x, y=y, training_frame=h2o_train_data)"
      ],
      "metadata": {
        "colab": {
          "base_uri": "https://localhost:8080/",
          "height": 1000
        },
        "id": "Mns9_EnzCcDh",
        "outputId": "0c795816-db32-4dc5-9ef4-f705305924ef"
      },
      "execution_count": 46,
      "outputs": [
        {
          "output_type": "stream",
          "name": "stdout",
          "text": [
            "AutoML progress: |███████████████████████████████████████████████████████████████| (done) 100%\n"
          ]
        },
        {
          "output_type": "execute_result",
          "data": {
            "text/plain": [
              "Model Details\n",
              "=============\n",
              "H2OGradientBoostingEstimator : Gradient Boosting Machine\n",
              "Model Key: GBM_5_AutoML_2_20230330_200614\n",
              "\n",
              "\n",
              "Model Summary: \n",
              "    number_of_trees    number_of_internal_trees    model_size_in_bytes    min_depth    max_depth    mean_depth    min_leaves    max_leaves    mean_leaves\n",
              "--  -----------------  --------------------------  ---------------------  -----------  -----------  ------------  ------------  ------------  -------------\n",
              "    142                142                         102394                 6            6            6             17            64            52.7183\n",
              "\n",
              "ModelMetricsRegression: gbm\n",
              "** Reported on train data. **\n",
              "\n",
              "MSE: 0.002603209775042282\n",
              "RMSE: 0.05102165986169288\n",
              "MAE: 0.03401164843185434\n",
              "RMSLE: 0.00583053704896858\n",
              "Mean Residual Deviance: 0.002603209775042282\n",
              "\n",
              "ModelMetricsRegression: gbm\n",
              "** Reported on cross-validation data. **\n",
              "\n",
              "MSE: 0.0356551653725957\n",
              "RMSE: 0.18882575399715926\n",
              "MAE: 0.0821339957724354\n",
              "RMSLE: 0.007091867817021132\n",
              "Mean Residual Deviance: 0.0356551653725957\n",
              "\n",
              "Cross-Validation Metrics Summary: \n",
              "                        mean        sd           cv_1_valid    cv_2_valid    cv_3_valid    cv_4_valid    cv_5_valid\n",
              "----------------------  ----------  -----------  ------------  ------------  ------------  ------------  ------------\n",
              "mae                     0.0821018   0.00268247   0.0786574     0.08425       0.0833815     0.0798006     0.0844193\n",
              "mean_residual_deviance  0.0356868   0.00762606   0.0343879     0.0480301     0.0308566     0.0283402     0.036819\n",
              "mse                     0.0356868   0.00762606   0.0343879     0.0480301     0.0308566     0.0283402     0.036819\n",
              "r2                      0.999985    2.93455e-06  0.999984      0.99998       0.999987      0.999987      0.999985\n",
              "residual_deviance       0.0356868   0.00762606   0.0343879     0.0480301     0.0308566     0.0283402     0.036819\n",
              "rmse                    0.188097    0.0195636    0.18544       0.219158      0.175661      0.168346      0.191883\n",
              "rmsle                   0.00706146  0.000221933  0.0068249     0.00706249    0.00733       0.00722988    0.00686004\n",
              "\n",
              "Scoring History: \n",
              "     timestamp            duration    number_of_trees    training_rmse         training_mae          training_deviance\n",
              "---  -------------------  ----------  -----------------  --------------------  --------------------  ---------------------\n",
              "     2023-03-30 20:07:15  4.557 sec   0.0                48.04715737297139     36.577826201039464    2308.529331623079\n",
              "     2023-03-30 20:07:15  4.583 sec   5.0                28.37405010658567     21.59970028869446     805.0867194510342\n",
              "     2023-03-30 20:07:15  4.612 sec   10.0               16.755868239266352    12.755098409389408    280.75912045165484\n",
              "     2023-03-30 20:07:15  4.640 sec   15.0               9.895371458283051     7.531739097350431     97.91837629740283\n",
              "     2023-03-30 20:07:15  4.674 sec   20.0               5.844373234965537     4.447511494151018     34.15669850958154\n",
              "     2023-03-30 20:07:15  4.702 sec   25.0               3.452583170613309     2.626518472204509     11.920330550002248\n",
              "     2023-03-30 20:07:15  4.737 sec   30.0               2.0418205321282734    1.551553978286322     4.169031085420585\n",
              "     2023-03-30 20:07:15  4.773 sec   35.0               1.2093033883640734    0.9168994213452617    1.4624146851088289\n",
              "     2023-03-30 20:07:15  4.799 sec   40.0               0.7189889105527508    0.5421989387476328    0.5169450534978315\n",
              "     2023-03-30 20:07:15  4.828 sec   45.0               0.43218706387622907   0.3215663293582722    0.1867856581819557\n",
              "---  ---                  ---         ---                ---                   ---                   ---\n",
              "     2023-03-30 20:07:16  5.137 sec   100.0              0.06201455402557206   0.039027165065980654  0.003845804910990596\n",
              "     2023-03-30 20:07:16  5.163 sec   105.0              0.06003379561403174   0.03821911838303492   0.003604056615827337\n",
              "     2023-03-30 20:07:16  5.192 sec   110.0              0.058862298306311865  0.0376442888480367    0.0034647701619012444\n",
              "     2023-03-30 20:07:16  5.219 sec   115.0              0.05736036800866453   0.03692084236197101   0.003290211818089425\n",
              "     2023-03-30 20:07:16  5.244 sec   120.0              0.056321172401825124  0.03642298272078477   0.003172074460716108\n",
              "     2023-03-30 20:07:16  5.274 sec   125.0              0.0546556438919239    0.03568645709347956   0.002987239409240798\n",
              "     2023-03-30 20:07:16  5.307 sec   130.0              0.053300517129096045  0.03509751247260177   0.0028409451262290607\n",
              "     2023-03-30 20:07:16  5.333 sec   135.0              0.05234443691770463   0.0346950986200166    0.002739940076231559\n",
              "     2023-03-30 20:07:16  5.363 sec   140.0              0.051505622844426203  0.03426653159185521   0.0026528291845922787\n",
              "     2023-03-30 20:07:16  5.374 sec   142.0              0.05102165986169288   0.03401164843185434   0.002603209775042282\n",
              "[30 rows x 7 columns]\n",
              "\n",
              "\n",
              "Variable Importances: \n",
              "variable    relative_importance    scaled_importance    percentage\n",
              "----------  ---------------------  -------------------  ------------\n",
              "Close       3.93779e+07            1                    0.650405\n",
              "Low         9.33919e+06            0.237168             0.154255\n",
              "High        7.10959e+06            0.180548             0.117429\n",
              "Open        4.71697e+06            0.119787             0.0779102\n",
              "Volume      43.9912                1.11715e-06          7.26602e-07\n",
              "\n",
              "[tips]\n",
              "Use `model.explain()` to inspect the model.\n",
              "--\n",
              "Use `h2o.display.toggle_user_tips()` to switch on/off this section."
            ],
            "text/html": [
              "<pre style='margin: 1em 0 1em 0;'>Model Details\n",
              "=============\n",
              "H2OGradientBoostingEstimator : Gradient Boosting Machine\n",
              "Model Key: GBM_5_AutoML_2_20230330_200614\n",
              "</pre>\n",
              "<div style='margin: 1em 0 1em 0;'>\n",
              "<style>\n",
              "\n",
              "#h2o-table-7.h2o-container {\n",
              "  overflow-x: auto;\n",
              "}\n",
              "#h2o-table-7 .h2o-table {\n",
              "  /* width: 100%; */\n",
              "  margin-top: 1em;\n",
              "  margin-bottom: 1em;\n",
              "}\n",
              "#h2o-table-7 .h2o-table caption {\n",
              "  white-space: nowrap;\n",
              "  caption-side: top;\n",
              "  text-align: left;\n",
              "  /* margin-left: 1em; */\n",
              "  margin: 0;\n",
              "  font-size: larger;\n",
              "}\n",
              "#h2o-table-7 .h2o-table thead {\n",
              "  white-space: nowrap; \n",
              "  position: sticky;\n",
              "  top: 0;\n",
              "  box-shadow: 0 -1px inset;\n",
              "}\n",
              "#h2o-table-7 .h2o-table tbody {\n",
              "  overflow: auto;\n",
              "}\n",
              "#h2o-table-7 .h2o-table th,\n",
              "#h2o-table-7 .h2o-table td {\n",
              "  text-align: right;\n",
              "  /* border: 1px solid; */\n",
              "}\n",
              "#h2o-table-7 .h2o-table tr:nth-child(even) {\n",
              "  /* background: #F5F5F5 */\n",
              "}\n",
              "\n",
              "</style>      \n",
              "<div id=\"h2o-table-7\" class=\"h2o-container\">\n",
              "  <table class=\"h2o-table\">\n",
              "    <caption>Model Summary: </caption>\n",
              "    <thead><tr><th></th>\n",
              "<th>number_of_trees</th>\n",
              "<th>number_of_internal_trees</th>\n",
              "<th>model_size_in_bytes</th>\n",
              "<th>min_depth</th>\n",
              "<th>max_depth</th>\n",
              "<th>mean_depth</th>\n",
              "<th>min_leaves</th>\n",
              "<th>max_leaves</th>\n",
              "<th>mean_leaves</th></tr></thead>\n",
              "    <tbody><tr><td></td>\n",
              "<td>142.0</td>\n",
              "<td>142.0</td>\n",
              "<td>102394.0</td>\n",
              "<td>6.0</td>\n",
              "<td>6.0</td>\n",
              "<td>6.0</td>\n",
              "<td>17.0</td>\n",
              "<td>64.0</td>\n",
              "<td>52.71831</td></tr></tbody>\n",
              "  </table>\n",
              "</div>\n",
              "</div>\n",
              "<div style='margin: 1em 0 1em 0;'><pre style='margin: 1em 0 1em 0;'>ModelMetricsRegression: gbm\n",
              "** Reported on train data. **\n",
              "\n",
              "MSE: 0.002603209775042282\n",
              "RMSE: 0.05102165986169288\n",
              "MAE: 0.03401164843185434\n",
              "RMSLE: 0.00583053704896858\n",
              "Mean Residual Deviance: 0.002603209775042282</pre></div>\n",
              "<div style='margin: 1em 0 1em 0;'><pre style='margin: 1em 0 1em 0;'>ModelMetricsRegression: gbm\n",
              "** Reported on cross-validation data. **\n",
              "\n",
              "MSE: 0.0356551653725957\n",
              "RMSE: 0.18882575399715926\n",
              "MAE: 0.0821339957724354\n",
              "RMSLE: 0.007091867817021132\n",
              "Mean Residual Deviance: 0.0356551653725957</pre></div>\n",
              "<div style='margin: 1em 0 1em 0;'>\n",
              "<style>\n",
              "\n",
              "#h2o-table-8.h2o-container {\n",
              "  overflow-x: auto;\n",
              "}\n",
              "#h2o-table-8 .h2o-table {\n",
              "  /* width: 100%; */\n",
              "  margin-top: 1em;\n",
              "  margin-bottom: 1em;\n",
              "}\n",
              "#h2o-table-8 .h2o-table caption {\n",
              "  white-space: nowrap;\n",
              "  caption-side: top;\n",
              "  text-align: left;\n",
              "  /* margin-left: 1em; */\n",
              "  margin: 0;\n",
              "  font-size: larger;\n",
              "}\n",
              "#h2o-table-8 .h2o-table thead {\n",
              "  white-space: nowrap; \n",
              "  position: sticky;\n",
              "  top: 0;\n",
              "  box-shadow: 0 -1px inset;\n",
              "}\n",
              "#h2o-table-8 .h2o-table tbody {\n",
              "  overflow: auto;\n",
              "}\n",
              "#h2o-table-8 .h2o-table th,\n",
              "#h2o-table-8 .h2o-table td {\n",
              "  text-align: right;\n",
              "  /* border: 1px solid; */\n",
              "}\n",
              "#h2o-table-8 .h2o-table tr:nth-child(even) {\n",
              "  /* background: #F5F5F5 */\n",
              "}\n",
              "\n",
              "</style>      \n",
              "<div id=\"h2o-table-8\" class=\"h2o-container\">\n",
              "  <table class=\"h2o-table\">\n",
              "    <caption>Cross-Validation Metrics Summary: </caption>\n",
              "    <thead><tr><th></th>\n",
              "<th>mean</th>\n",
              "<th>sd</th>\n",
              "<th>cv_1_valid</th>\n",
              "<th>cv_2_valid</th>\n",
              "<th>cv_3_valid</th>\n",
              "<th>cv_4_valid</th>\n",
              "<th>cv_5_valid</th></tr></thead>\n",
              "    <tbody><tr><td>mae</td>\n",
              "<td>0.0821018</td>\n",
              "<td>0.0026825</td>\n",
              "<td>0.0786574</td>\n",
              "<td>0.0842500</td>\n",
              "<td>0.0833815</td>\n",
              "<td>0.0798006</td>\n",
              "<td>0.0844193</td></tr>\n",
              "<tr><td>mean_residual_deviance</td>\n",
              "<td>0.0356868</td>\n",
              "<td>0.0076261</td>\n",
              "<td>0.0343879</td>\n",
              "<td>0.0480301</td>\n",
              "<td>0.0308566</td>\n",
              "<td>0.0283402</td>\n",
              "<td>0.0368190</td></tr>\n",
              "<tr><td>mse</td>\n",
              "<td>0.0356868</td>\n",
              "<td>0.0076261</td>\n",
              "<td>0.0343879</td>\n",
              "<td>0.0480301</td>\n",
              "<td>0.0308566</td>\n",
              "<td>0.0283402</td>\n",
              "<td>0.0368190</td></tr>\n",
              "<tr><td>r2</td>\n",
              "<td>0.9999846</td>\n",
              "<td>0.0000029</td>\n",
              "<td>0.999984</td>\n",
              "<td>0.9999799</td>\n",
              "<td>0.9999870</td>\n",
              "<td>0.9999872</td>\n",
              "<td>0.9999847</td></tr>\n",
              "<tr><td>residual_deviance</td>\n",
              "<td>0.0356868</td>\n",
              "<td>0.0076261</td>\n",
              "<td>0.0343879</td>\n",
              "<td>0.0480301</td>\n",
              "<td>0.0308566</td>\n",
              "<td>0.0283402</td>\n",
              "<td>0.0368190</td></tr>\n",
              "<tr><td>rmse</td>\n",
              "<td>0.1880972</td>\n",
              "<td>0.0195636</td>\n",
              "<td>0.1854397</td>\n",
              "<td>0.2191576</td>\n",
              "<td>0.1756606</td>\n",
              "<td>0.1683456</td>\n",
              "<td>0.1918826</td></tr>\n",
              "<tr><td>rmsle</td>\n",
              "<td>0.0070615</td>\n",
              "<td>0.0002219</td>\n",
              "<td>0.0068249</td>\n",
              "<td>0.0070625</td>\n",
              "<td>0.0073300</td>\n",
              "<td>0.0072299</td>\n",
              "<td>0.0068600</td></tr></tbody>\n",
              "  </table>\n",
              "</div>\n",
              "</div>\n",
              "<div style='margin: 1em 0 1em 0;'>\n",
              "<style>\n",
              "\n",
              "#h2o-table-9.h2o-container {\n",
              "  overflow-x: auto;\n",
              "}\n",
              "#h2o-table-9 .h2o-table {\n",
              "  /* width: 100%; */\n",
              "  margin-top: 1em;\n",
              "  margin-bottom: 1em;\n",
              "}\n",
              "#h2o-table-9 .h2o-table caption {\n",
              "  white-space: nowrap;\n",
              "  caption-side: top;\n",
              "  text-align: left;\n",
              "  /* margin-left: 1em; */\n",
              "  margin: 0;\n",
              "  font-size: larger;\n",
              "}\n",
              "#h2o-table-9 .h2o-table thead {\n",
              "  white-space: nowrap; \n",
              "  position: sticky;\n",
              "  top: 0;\n",
              "  box-shadow: 0 -1px inset;\n",
              "}\n",
              "#h2o-table-9 .h2o-table tbody {\n",
              "  overflow: auto;\n",
              "}\n",
              "#h2o-table-9 .h2o-table th,\n",
              "#h2o-table-9 .h2o-table td {\n",
              "  text-align: right;\n",
              "  /* border: 1px solid; */\n",
              "}\n",
              "#h2o-table-9 .h2o-table tr:nth-child(even) {\n",
              "  /* background: #F5F5F5 */\n",
              "}\n",
              "\n",
              "</style>      \n",
              "<div id=\"h2o-table-9\" class=\"h2o-container\">\n",
              "  <table class=\"h2o-table\">\n",
              "    <caption>Scoring History: </caption>\n",
              "    <thead><tr><th></th>\n",
              "<th>timestamp</th>\n",
              "<th>duration</th>\n",
              "<th>number_of_trees</th>\n",
              "<th>training_rmse</th>\n",
              "<th>training_mae</th>\n",
              "<th>training_deviance</th></tr></thead>\n",
              "    <tbody><tr><td></td>\n",
              "<td>2023-03-30 20:07:15</td>\n",
              "<td> 4.557 sec</td>\n",
              "<td>0.0</td>\n",
              "<td>48.0471574</td>\n",
              "<td>36.5778262</td>\n",
              "<td>2308.5293316</td></tr>\n",
              "<tr><td></td>\n",
              "<td>2023-03-30 20:07:15</td>\n",
              "<td> 4.583 sec</td>\n",
              "<td>5.0</td>\n",
              "<td>28.3740501</td>\n",
              "<td>21.5997003</td>\n",
              "<td>805.0867195</td></tr>\n",
              "<tr><td></td>\n",
              "<td>2023-03-30 20:07:15</td>\n",
              "<td> 4.612 sec</td>\n",
              "<td>10.0</td>\n",
              "<td>16.7558682</td>\n",
              "<td>12.7550984</td>\n",
              "<td>280.7591205</td></tr>\n",
              "<tr><td></td>\n",
              "<td>2023-03-30 20:07:15</td>\n",
              "<td> 4.640 sec</td>\n",
              "<td>15.0</td>\n",
              "<td>9.8953715</td>\n",
              "<td>7.5317391</td>\n",
              "<td>97.9183763</td></tr>\n",
              "<tr><td></td>\n",
              "<td>2023-03-30 20:07:15</td>\n",
              "<td> 4.674 sec</td>\n",
              "<td>20.0</td>\n",
              "<td>5.8443732</td>\n",
              "<td>4.4475115</td>\n",
              "<td>34.1566985</td></tr>\n",
              "<tr><td></td>\n",
              "<td>2023-03-30 20:07:15</td>\n",
              "<td> 4.702 sec</td>\n",
              "<td>25.0</td>\n",
              "<td>3.4525832</td>\n",
              "<td>2.6265185</td>\n",
              "<td>11.9203306</td></tr>\n",
              "<tr><td></td>\n",
              "<td>2023-03-30 20:07:15</td>\n",
              "<td> 4.737 sec</td>\n",
              "<td>30.0</td>\n",
              "<td>2.0418205</td>\n",
              "<td>1.5515540</td>\n",
              "<td>4.1690311</td></tr>\n",
              "<tr><td></td>\n",
              "<td>2023-03-30 20:07:15</td>\n",
              "<td> 4.773 sec</td>\n",
              "<td>35.0</td>\n",
              "<td>1.2093034</td>\n",
              "<td>0.9168994</td>\n",
              "<td>1.4624147</td></tr>\n",
              "<tr><td></td>\n",
              "<td>2023-03-30 20:07:15</td>\n",
              "<td> 4.799 sec</td>\n",
              "<td>40.0</td>\n",
              "<td>0.7189889</td>\n",
              "<td>0.5421989</td>\n",
              "<td>0.5169451</td></tr>\n",
              "<tr><td></td>\n",
              "<td>2023-03-30 20:07:15</td>\n",
              "<td> 4.828 sec</td>\n",
              "<td>45.0</td>\n",
              "<td>0.4321871</td>\n",
              "<td>0.3215663</td>\n",
              "<td>0.1867857</td></tr>\n",
              "<tr><td>---</td>\n",
              "<td>---</td>\n",
              "<td>---</td>\n",
              "<td>---</td>\n",
              "<td>---</td>\n",
              "<td>---</td>\n",
              "<td>---</td></tr>\n",
              "<tr><td></td>\n",
              "<td>2023-03-30 20:07:16</td>\n",
              "<td> 5.137 sec</td>\n",
              "<td>100.0</td>\n",
              "<td>0.0620146</td>\n",
              "<td>0.0390272</td>\n",
              "<td>0.0038458</td></tr>\n",
              "<tr><td></td>\n",
              "<td>2023-03-30 20:07:16</td>\n",
              "<td> 5.163 sec</td>\n",
              "<td>105.0</td>\n",
              "<td>0.0600338</td>\n",
              "<td>0.0382191</td>\n",
              "<td>0.0036041</td></tr>\n",
              "<tr><td></td>\n",
              "<td>2023-03-30 20:07:16</td>\n",
              "<td> 5.192 sec</td>\n",
              "<td>110.0</td>\n",
              "<td>0.0588623</td>\n",
              "<td>0.0376443</td>\n",
              "<td>0.0034648</td></tr>\n",
              "<tr><td></td>\n",
              "<td>2023-03-30 20:07:16</td>\n",
              "<td> 5.219 sec</td>\n",
              "<td>115.0</td>\n",
              "<td>0.0573604</td>\n",
              "<td>0.0369208</td>\n",
              "<td>0.0032902</td></tr>\n",
              "<tr><td></td>\n",
              "<td>2023-03-30 20:07:16</td>\n",
              "<td> 5.244 sec</td>\n",
              "<td>120.0</td>\n",
              "<td>0.0563212</td>\n",
              "<td>0.0364230</td>\n",
              "<td>0.0031721</td></tr>\n",
              "<tr><td></td>\n",
              "<td>2023-03-30 20:07:16</td>\n",
              "<td> 5.274 sec</td>\n",
              "<td>125.0</td>\n",
              "<td>0.0546556</td>\n",
              "<td>0.0356865</td>\n",
              "<td>0.0029872</td></tr>\n",
              "<tr><td></td>\n",
              "<td>2023-03-30 20:07:16</td>\n",
              "<td> 5.307 sec</td>\n",
              "<td>130.0</td>\n",
              "<td>0.0533005</td>\n",
              "<td>0.0350975</td>\n",
              "<td>0.0028409</td></tr>\n",
              "<tr><td></td>\n",
              "<td>2023-03-30 20:07:16</td>\n",
              "<td> 5.333 sec</td>\n",
              "<td>135.0</td>\n",
              "<td>0.0523444</td>\n",
              "<td>0.0346951</td>\n",
              "<td>0.0027399</td></tr>\n",
              "<tr><td></td>\n",
              "<td>2023-03-30 20:07:16</td>\n",
              "<td> 5.363 sec</td>\n",
              "<td>140.0</td>\n",
              "<td>0.0515056</td>\n",
              "<td>0.0342665</td>\n",
              "<td>0.0026528</td></tr>\n",
              "<tr><td></td>\n",
              "<td>2023-03-30 20:07:16</td>\n",
              "<td> 5.374 sec</td>\n",
              "<td>142.0</td>\n",
              "<td>0.0510217</td>\n",
              "<td>0.0340116</td>\n",
              "<td>0.0026032</td></tr></tbody>\n",
              "  </table>\n",
              "</div>\n",
              "<pre style='font-size: smaller; margin-bottom: 1em;'>[30 rows x 7 columns]</pre></div>\n",
              "<div style='margin: 1em 0 1em 0;'>\n",
              "<style>\n",
              "\n",
              "#h2o-table-10.h2o-container {\n",
              "  overflow-x: auto;\n",
              "}\n",
              "#h2o-table-10 .h2o-table {\n",
              "  /* width: 100%; */\n",
              "  margin-top: 1em;\n",
              "  margin-bottom: 1em;\n",
              "}\n",
              "#h2o-table-10 .h2o-table caption {\n",
              "  white-space: nowrap;\n",
              "  caption-side: top;\n",
              "  text-align: left;\n",
              "  /* margin-left: 1em; */\n",
              "  margin: 0;\n",
              "  font-size: larger;\n",
              "}\n",
              "#h2o-table-10 .h2o-table thead {\n",
              "  white-space: nowrap; \n",
              "  position: sticky;\n",
              "  top: 0;\n",
              "  box-shadow: 0 -1px inset;\n",
              "}\n",
              "#h2o-table-10 .h2o-table tbody {\n",
              "  overflow: auto;\n",
              "}\n",
              "#h2o-table-10 .h2o-table th,\n",
              "#h2o-table-10 .h2o-table td {\n",
              "  text-align: right;\n",
              "  /* border: 1px solid; */\n",
              "}\n",
              "#h2o-table-10 .h2o-table tr:nth-child(even) {\n",
              "  /* background: #F5F5F5 */\n",
              "}\n",
              "\n",
              "</style>      \n",
              "<div id=\"h2o-table-10\" class=\"h2o-container\">\n",
              "  <table class=\"h2o-table\">\n",
              "    <caption>Variable Importances: </caption>\n",
              "    <thead><tr><th>variable</th>\n",
              "<th>relative_importance</th>\n",
              "<th>scaled_importance</th>\n",
              "<th>percentage</th></tr></thead>\n",
              "    <tbody><tr><td>Close</td>\n",
              "<td>39377912.0000000</td>\n",
              "<td>1.0</td>\n",
              "<td>0.6504047</td></tr>\n",
              "<tr><td>Low</td>\n",
              "<td>9339192.0</td>\n",
              "<td>0.2371683</td>\n",
              "<td>0.1542554</td></tr>\n",
              "<tr><td>High</td>\n",
              "<td>7109592.5</td>\n",
              "<td>0.1805477</td>\n",
              "<td>0.1174291</td></tr>\n",
              "<tr><td>Open</td>\n",
              "<td>4716970.5</td>\n",
              "<td>0.1197872</td>\n",
              "<td>0.0779102</td></tr>\n",
              "<tr><td>Volume</td>\n",
              "<td>43.9911766</td>\n",
              "<td>0.0000011</td>\n",
              "<td>0.0000007</td></tr></tbody>\n",
              "  </table>\n",
              "</div>\n",
              "</div><pre style=\"font-size: smaller; margin: 1em 0 0 0;\">\n",
              "\n",
              "[tips]\n",
              "Use `model.explain()` to inspect the model.\n",
              "--\n",
              "Use `h2o.display.toggle_user_tips()` to switch on/off this section.</pre>"
            ]
          },
          "metadata": {},
          "execution_count": 46
        }
      ]
    },
    {
      "cell_type": "code",
      "source": [
        "best_model = aml.get_best_model()"
      ],
      "metadata": {
        "id": "tjwDhI93lZUo"
      },
      "execution_count": 47,
      "outputs": []
    },
    {
      "cell_type": "code",
      "source": [
        "lb = aml.leaderboard\n",
        "print(lb.head(rows=lb.nrows))\n"
      ],
      "metadata": {
        "colab": {
          "base_uri": "https://localhost:8080/"
        },
        "id": "sbVYbfKVPG0h",
        "outputId": "04b2c3d5-e76c-488d-e17b-f505ff5f1fdf"
      },
      "execution_count": 48,
      "outputs": [
        {
          "output_type": "stream",
          "name": "stdout",
          "text": [
            "model_id                                                     rmse         mse        mae         rmsle    mean_residual_deviance\n",
            "GBM_5_AutoML_2_20230330_200614                           0.188826   0.0356552  0.082134     0.00709187                 0.0356552\n",
            "GBM_4_AutoML_2_20230330_200614                           0.208153   0.0433276  0.065856     0.00334803                 0.0433276\n",
            "StackedEnsemble_AllModels_1_AutoML_2_20230330_200614     0.217506   0.0473087  0.0882869    0.0101472                  0.0473087\n",
            "GBM_2_AutoML_2_20230330_200614                           0.235253   0.0553439  0.0902232    0.0064655                  0.0553439\n",
            "StackedEnsemble_BestOfFamily_1_AutoML_2_20230330_200614  0.242381   0.0587485  0.112475     0.0164687                  0.0587485\n",
            "GBM_3_AutoML_2_20230330_200614                           0.242847   0.0589744  0.0764651    0.00421022                 0.0589744\n",
            "XGBoost_grid_1_AutoML_2_20230330_200614_model_3          0.253664   0.0643453  0.105571     0.00928378                 0.0643453\n",
            "GBM_grid_1_AutoML_2_20230330_200614_model_2              0.292458   0.0855319  0.139571     0.0137971                  0.0855319\n",
            "XGBoost_2_AutoML_2_20230330_200614                       0.391142   0.152992   0.154201     0.00820798                 0.152992\n",
            "XGBoost_3_AutoML_2_20230330_200614                       0.406879   0.165551   0.166493     0.0149816                  0.165551\n",
            "GLM_1_AutoML_2_20230330_200614                           0.497423   0.24743    0.220495     0.0195111                  0.24743\n",
            "XGBoost_grid_1_AutoML_2_20230330_200614_model_2          0.529275   0.280132   0.174547     0.0113384                  0.280132\n",
            "XGBoost_1_AutoML_2_20230330_200614                       0.53593    0.287221   0.175122     0.00961524                 0.287221\n",
            "XGBoost_grid_1_AutoML_2_20230330_200614_model_1          0.571463   0.32657    0.209934     0.0145767                  0.32657\n",
            "GBM_grid_1_AutoML_2_20230330_200614_model_1              0.594983   0.354005   0.267366     0.0461002                  0.354005\n",
            "DeepLearning_1_AutoML_2_20230330_200614                  0.837529   0.701455   0.461076     0.120311                   0.701455\n",
            "GBM_1_AutoML_2_20230330_200614                           0.902466   0.814445   0.270836     0.0134598                  0.814445\n",
            "DeepLearning_grid_1_AutoML_2_20230330_200614_model_1     1.28491    1.65098    0.887493   nan                          1.65098\n",
            "DeepLearning_grid_2_AutoML_2_20230330_200614_model_1     2.45036    6.00428    1.69746      0.302372                   6.00428\n",
            "DeepLearning_grid_3_AutoML_2_20230330_200614_model_1     3.53767   12.5151     2.03457      0.294068                  12.5151\n",
            "DRF_1_AutoML_2_20230330_200614                           7.82755   61.2706     5.44378      0.745885                  61.2706\n",
            "XRT_1_AutoML_2_20230330_200614                           9.2686    85.907      6.99785      0.886911                  85.907\n",
            "[22 rows x 6 columns]\n",
            "\n"
          ]
        }
      ]
    },
    {
      "cell_type": "code",
      "source": [
        "# Predict on the test set\n",
        "y_pred = best_model.predict(h2o_test_data).as_data_frame().values.flatten()"
      ],
      "metadata": {
        "colab": {
          "base_uri": "https://localhost:8080/"
        },
        "id": "crvIOze7Cggo",
        "outputId": "c1abe3a7-9be9-4714-f466-ffdd88490391"
      },
      "execution_count": 49,
      "outputs": [
        {
          "output_type": "stream",
          "name": "stdout",
          "text": [
            "gbm prediction progress: |███████████████████████████████████████████████████████| (done) 100%\n"
          ]
        }
      ]
    },
    {
      "cell_type": "code",
      "source": [
        "# Evaluate the model\n",
        "mse = mean_squared_error(test_data[y], y_pred)\n",
        "print(f\"Mean Squared Error: {mse}\")"
      ],
      "metadata": {
        "colab": {
          "base_uri": "https://localhost:8080/"
        },
        "id": "Z1ofMwhpChvS",
        "outputId": "040a8238-33ee-4286-859a-3507f55f4a98"
      },
      "execution_count": 50,
      "outputs": [
        {
          "output_type": "stream",
          "name": "stdout",
          "text": [
            "Mean Squared Error: 0.024993849443255573\n"
          ]
        }
      ]
    },
    {
      "cell_type": "code",
      "source": [
        "# Clean up\n",
        "h2o.cluster().shutdown()"
      ],
      "metadata": {
        "id": "ZdOoIMfYCjAF"
      },
      "execution_count": null,
      "outputs": []
    }
  ]
}